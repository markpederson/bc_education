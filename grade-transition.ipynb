{
 "cells": [
  {
   "cell_type": "code",
   "execution_count": 8,
   "id": "permanent-vanilla",
   "metadata": {},
   "outputs": [],
   "source": [
    "import pandas as pd\n",
    "import numpy as np\n",
    "import matplotlib.pyplot as plt"
   ]
  },
  {
   "cell_type": "code",
   "execution_count": 58,
   "id": "inclusive-concern",
   "metadata": {
    "scrolled": true
   },
   "outputs": [
    {
     "data": {
      "text/html": [
       "<div>\n",
       "<style scoped>\n",
       "    .dataframe tbody tr th:only-of-type {\n",
       "        vertical-align: middle;\n",
       "    }\n",
       "\n",
       "    .dataframe tbody tr th {\n",
       "        vertical-align: top;\n",
       "    }\n",
       "\n",
       "    .dataframe thead th {\n",
       "        text-align: right;\n",
       "    }\n",
       "</style>\n",
       "<table border=\"1\" class=\"dataframe\">\n",
       "  <thead>\n",
       "    <tr style=\"text-align: right;\">\n",
       "      <th></th>\n",
       "      <th>base_year</th>\n",
       "      <th>is_public</th>\n",
       "      <th>district_number</th>\n",
       "      <th>student_grade</th>\n",
       "      <th>is_indigenous</th>\n",
       "      <th>total</th>\n",
       "      <th>successful</th>\n",
       "      <th>success_rate</th>\n",
       "    </tr>\n",
       "  </thead>\n",
       "  <tbody>\n",
       "    <tr>\n",
       "      <th>0</th>\n",
       "      <td>2015</td>\n",
       "      <td>1</td>\n",
       "      <td>0</td>\n",
       "      <td>1</td>\n",
       "      <td>1</td>\n",
       "      <td>521</td>\n",
       "      <td>500</td>\n",
       "      <td>0.959693</td>\n",
       "    </tr>\n",
       "    <tr>\n",
       "      <th>1</th>\n",
       "      <td>2015</td>\n",
       "      <td>1</td>\n",
       "      <td>0</td>\n",
       "      <td>1</td>\n",
       "      <td>0</td>\n",
       "      <td>5827</td>\n",
       "      <td>5669</td>\n",
       "      <td>0.972885</td>\n",
       "    </tr>\n",
       "    <tr>\n",
       "      <th>2</th>\n",
       "      <td>2015</td>\n",
       "      <td>1</td>\n",
       "      <td>0</td>\n",
       "      <td>2</td>\n",
       "      <td>1</td>\n",
       "      <td>546</td>\n",
       "      <td>525</td>\n",
       "      <td>0.961538</td>\n",
       "    </tr>\n",
       "    <tr>\n",
       "      <th>3</th>\n",
       "      <td>2015</td>\n",
       "      <td>1</td>\n",
       "      <td>0</td>\n",
       "      <td>2</td>\n",
       "      <td>0</td>\n",
       "      <td>5868</td>\n",
       "      <td>5727</td>\n",
       "      <td>0.975971</td>\n",
       "    </tr>\n",
       "    <tr>\n",
       "      <th>4</th>\n",
       "      <td>2015</td>\n",
       "      <td>1</td>\n",
       "      <td>0</td>\n",
       "      <td>3</td>\n",
       "      <td>1</td>\n",
       "      <td>509</td>\n",
       "      <td>492</td>\n",
       "      <td>0.966601</td>\n",
       "    </tr>\n",
       "  </tbody>\n",
       "</table>\n",
       "</div>"
      ],
      "text/plain": [
       "   base_year  is_public  district_number  student_grade  is_indigenous  total  \\\n",
       "0       2015          1                0              1              1    521   \n",
       "1       2015          1                0              1              0   5827   \n",
       "2       2015          1                0              2              1    546   \n",
       "3       2015          1                0              2              0   5868   \n",
       "4       2015          1                0              3              1    509   \n",
       "\n",
       "   successful  success_rate  \n",
       "0         500      0.959693  \n",
       "1        5669      0.972885  \n",
       "2         525      0.961538  \n",
       "3        5727      0.975971  \n",
       "4         492      0.966601  "
      ]
     },
     "execution_count": 58,
     "metadata": {},
     "output_type": "execute_result"
    }
   ],
   "source": [
    "df = pd.read_csv('grade_transition-R.csv')\n",
    "# df = df[df['SUB_POPULATION'].isin(['Indigenous', 'Non Indigenous'])]\n",
    "df.head()"
   ]
  },
  {
   "cell_type": "code",
   "execution_count": 59,
   "id": "sorted-placement",
   "metadata": {},
   "outputs": [
    {
     "ename": "KeyError",
     "evalue": "'PUBLIC_OR_INDEPENDENT'",
     "output_type": "error",
     "traceback": [
      "\u001b[0;31m---------------------------------------------------------------------------\u001b[0m",
      "\u001b[0;31mKeyError\u001b[0m                                  Traceback (most recent call last)",
      "\u001b[0;32m<ipython-input-59-5c1aa2d63986>\u001b[0m in \u001b[0;36m<module>\u001b[0;34m\u001b[0m\n\u001b[0;32m----> 1\u001b[0;31m (df.groupby('PUBLIC_OR_INDEPENDENT').sum()['SUCCESSFUL'] / \n\u001b[0m\u001b[1;32m      2\u001b[0m  \u001b[0mdf\u001b[0m\u001b[0;34m.\u001b[0m\u001b[0mgroupby\u001b[0m\u001b[0;34m(\u001b[0m\u001b[0;34m'PUBLIC_OR_INDEPENDENT'\u001b[0m\u001b[0;34m)\u001b[0m\u001b[0;34m.\u001b[0m\u001b[0msum\u001b[0m\u001b[0;34m(\u001b[0m\u001b[0;34m)\u001b[0m\u001b[0;34m[\u001b[0m\u001b[0;34m'TOTAL'\u001b[0m\u001b[0;34m]\u001b[0m\u001b[0;34m)\u001b[0m\u001b[0;34m.\u001b[0m\u001b[0mplot\u001b[0m\u001b[0;34m.\u001b[0m\u001b[0mbar\u001b[0m\u001b[0;34m(\u001b[0m\u001b[0;34m\u001b[0m\u001b[0;34m\u001b[0m\u001b[0m\n\u001b[1;32m      3\u001b[0m     \u001b[0mtitle\u001b[0m\u001b[0;34m=\u001b[0m\u001b[0;34m'Transition Rate by School Type'\u001b[0m\u001b[0;34m,\u001b[0m\u001b[0;34m\u001b[0m\u001b[0;34m\u001b[0m\u001b[0m\n\u001b[1;32m      4\u001b[0m figsize=(12,7))\n",
      "\u001b[0;32m~/projects/data_science/bc_education/venv/lib/python3.8/site-packages/pandas/core/frame.py\u001b[0m in \u001b[0;36mgroupby\u001b[0;34m(self, by, axis, level, as_index, sort, group_keys, squeeze, observed, dropna)\u001b[0m\n\u001b[1;32m   6712\u001b[0m         \u001b[0maxis\u001b[0m \u001b[0;34m=\u001b[0m \u001b[0mself\u001b[0m\u001b[0;34m.\u001b[0m\u001b[0m_get_axis_number\u001b[0m\u001b[0;34m(\u001b[0m\u001b[0maxis\u001b[0m\u001b[0;34m)\u001b[0m\u001b[0;34m\u001b[0m\u001b[0;34m\u001b[0m\u001b[0m\n\u001b[1;32m   6713\u001b[0m \u001b[0;34m\u001b[0m\u001b[0m\n\u001b[0;32m-> 6714\u001b[0;31m         return DataFrameGroupBy(\n\u001b[0m\u001b[1;32m   6715\u001b[0m             \u001b[0mobj\u001b[0m\u001b[0;34m=\u001b[0m\u001b[0mself\u001b[0m\u001b[0;34m,\u001b[0m\u001b[0;34m\u001b[0m\u001b[0;34m\u001b[0m\u001b[0m\n\u001b[1;32m   6716\u001b[0m             \u001b[0mkeys\u001b[0m\u001b[0;34m=\u001b[0m\u001b[0mby\u001b[0m\u001b[0;34m,\u001b[0m\u001b[0;34m\u001b[0m\u001b[0;34m\u001b[0m\u001b[0m\n",
      "\u001b[0;32m~/projects/data_science/bc_education/venv/lib/python3.8/site-packages/pandas/core/groupby/groupby.py\u001b[0m in \u001b[0;36m__init__\u001b[0;34m(self, obj, keys, axis, level, grouper, exclusions, selection, as_index, sort, group_keys, squeeze, observed, mutated, dropna)\u001b[0m\n\u001b[1;32m    558\u001b[0m             \u001b[0;32mfrom\u001b[0m \u001b[0mpandas\u001b[0m\u001b[0;34m.\u001b[0m\u001b[0mcore\u001b[0m\u001b[0;34m.\u001b[0m\u001b[0mgroupby\u001b[0m\u001b[0;34m.\u001b[0m\u001b[0mgrouper\u001b[0m \u001b[0;32mimport\u001b[0m \u001b[0mget_grouper\u001b[0m\u001b[0;34m\u001b[0m\u001b[0;34m\u001b[0m\u001b[0m\n\u001b[1;32m    559\u001b[0m \u001b[0;34m\u001b[0m\u001b[0m\n\u001b[0;32m--> 560\u001b[0;31m             grouper, exclusions, obj = get_grouper(\n\u001b[0m\u001b[1;32m    561\u001b[0m                 \u001b[0mobj\u001b[0m\u001b[0;34m,\u001b[0m\u001b[0;34m\u001b[0m\u001b[0;34m\u001b[0m\u001b[0m\n\u001b[1;32m    562\u001b[0m                 \u001b[0mkeys\u001b[0m\u001b[0;34m,\u001b[0m\u001b[0;34m\u001b[0m\u001b[0;34m\u001b[0m\u001b[0m\n",
      "\u001b[0;32m~/projects/data_science/bc_education/venv/lib/python3.8/site-packages/pandas/core/groupby/grouper.py\u001b[0m in \u001b[0;36mget_grouper\u001b[0;34m(obj, key, axis, level, sort, observed, mutated, validate, dropna)\u001b[0m\n\u001b[1;32m    809\u001b[0m                 \u001b[0min_axis\u001b[0m\u001b[0;34m,\u001b[0m \u001b[0mname\u001b[0m\u001b[0;34m,\u001b[0m \u001b[0mlevel\u001b[0m\u001b[0;34m,\u001b[0m \u001b[0mgpr\u001b[0m \u001b[0;34m=\u001b[0m \u001b[0;32mFalse\u001b[0m\u001b[0;34m,\u001b[0m \u001b[0;32mNone\u001b[0m\u001b[0;34m,\u001b[0m \u001b[0mgpr\u001b[0m\u001b[0;34m,\u001b[0m \u001b[0;32mNone\u001b[0m\u001b[0;34m\u001b[0m\u001b[0;34m\u001b[0m\u001b[0m\n\u001b[1;32m    810\u001b[0m             \u001b[0;32melse\u001b[0m\u001b[0;34m:\u001b[0m\u001b[0;34m\u001b[0m\u001b[0;34m\u001b[0m\u001b[0m\n\u001b[0;32m--> 811\u001b[0;31m                 \u001b[0;32mraise\u001b[0m \u001b[0mKeyError\u001b[0m\u001b[0;34m(\u001b[0m\u001b[0mgpr\u001b[0m\u001b[0;34m)\u001b[0m\u001b[0;34m\u001b[0m\u001b[0;34m\u001b[0m\u001b[0m\n\u001b[0m\u001b[1;32m    812\u001b[0m         \u001b[0;32melif\u001b[0m \u001b[0misinstance\u001b[0m\u001b[0;34m(\u001b[0m\u001b[0mgpr\u001b[0m\u001b[0;34m,\u001b[0m \u001b[0mGrouper\u001b[0m\u001b[0;34m)\u001b[0m \u001b[0;32mand\u001b[0m \u001b[0mgpr\u001b[0m\u001b[0;34m.\u001b[0m\u001b[0mkey\u001b[0m \u001b[0;32mis\u001b[0m \u001b[0;32mnot\u001b[0m \u001b[0;32mNone\u001b[0m\u001b[0;34m:\u001b[0m\u001b[0;34m\u001b[0m\u001b[0;34m\u001b[0m\u001b[0m\n\u001b[1;32m    813\u001b[0m             \u001b[0;31m# Add key to exclusions\u001b[0m\u001b[0;34m\u001b[0m\u001b[0;34m\u001b[0m\u001b[0;34m\u001b[0m\u001b[0m\n",
      "\u001b[0;31mKeyError\u001b[0m: 'PUBLIC_OR_INDEPENDENT'"
     ]
    }
   ],
   "source": [
    "(df.groupby('PUBLIC_OR_INDEPENDENT').sum()['SUCCESSFUL'] / \n",
    " df.groupby('PUBLIC_OR_INDEPENDENT').sum()['TOTAL']).plot.bar(\n",
    "    title='Transition Rate by School Type',\n",
    "figsize=(12,7))"
   ]
  },
  {
   "cell_type": "code",
   "execution_count": 55,
   "id": "seasonal-header",
   "metadata": {},
   "outputs": [
    {
     "data": {
      "text/plain": [
       "<AxesSubplot:title={'center':'Transition Rate by Grade'}, xlabel='STUDENT_GRADE'>"
      ]
     },
     "execution_count": 55,
     "metadata": {},
     "output_type": "execute_result"
    },
    {
     "data": {
      "image/png": "[encoded data removed]",
      "text/plain": [
       "<Figure size 864x504 with 1 Axes>"
      ]
     },
     "metadata": {
      "needs_background": "light"
     },
     "output_type": "display_data"
    }
   ],
   "source": [
    "pd.merge(\n",
    "(df[df['PUBLIC_OR_INDEPENDENT']=='Public'].groupby('STUDENT_GRADE').sum()['SUCCESSFUL'] / \n",
    "df[df['PUBLIC_OR_INDEPENDENT']=='Public'].groupby('STUDENT_GRADE').sum()['TOTAL']).rename('Public'),\n",
    "    (df[df['PUBLIC_OR_INDEPENDENT']=='Private'].groupby('STUDENT_GRADE').sum()['SUCCESSFUL'] / \n",
    "df[df['PUBLIC_OR_INDEPENDENT']=='Private'].groupby('STUDENT_GRADE').sum()['TOTAL']).rename('Private'),\n",
    "    left_index=True, right_index=True\n",
    ").plot(title='Transition Rate by Grade', figsize=(12,7))"
   ]
  },
  {
   "cell_type": "code",
   "execution_count": 56,
   "id": "waiting-venice",
   "metadata": {},
   "outputs": [
    {
     "data": {
      "text/plain": [
       "<AxesSubplot:xlabel='SUB_POPULATION'>"
      ]
     },
     "execution_count": 56,
     "metadata": {},
     "output_type": "execute_result"
    },
    {
     "data": {
      "image/png": "[encoded data removed]",
      "text/plain": [
       "<Figure size 864x504 with 1 Axes>"
      ]
     },
     "metadata": {
      "needs_background": "light"
     },
     "output_type": "display_data"
    }
   ],
   "source": [
    "(df.groupby('SUB_POPULATION').sum()['SUCCESSFUL'] / \n",
    "df.groupby('SUB_POPULATION').sum()['TOTAL']).rename('Transition Rate').plot.bar(figsize=(12,7))"
   ]
  },
  {
   "cell_type": "code",
   "execution_count": 57,
   "id": "protective-recommendation",
   "metadata": {},
   "outputs": [
    {
     "data": {
      "text/plain": [
       "<AxesSubplot:title={'center':'Transition Rate by Grade'}, xlabel='STUDENT_GRADE'>"
      ]
     },
     "execution_count": 57,
     "metadata": {},
     "output_type": "execute_result"
    },
    {
     "data": {
      "image/png": "[encoded data removed]",
      "text/plain": [
       "<Figure size 864x504 with 1 Axes>"
      ]
     },
     "metadata": {
      "needs_background": "light"
     },
     "output_type": "display_data"
    }
   ],
   "source": [
    "pd.merge(\n",
    "(df[df['SUB_POPULATION']=='Indigenous'].groupby('STUDENT_GRADE').sum()['SUCCESSFUL'] / \n",
    "df[df['SUB_POPULATION']=='Indigenous'].groupby('STUDENT_GRADE').sum()['TOTAL']).rename('Indigenous'),\n",
    "    (df[df['SUB_POPULATION']=='Non Indigenous'].groupby('STUDENT_GRADE').sum()['SUCCESSFUL'] / \n",
    "df[df['SUB_POPULATION']=='Non Indigenous'].groupby('STUDENT_GRADE').sum()['TOTAL']).rename('Non-Indigenous'),\n",
    "    left_index=True, right_index=True\n",
    ").plot(title='Transition Rate by Grade', figsize=(12,7))"
   ]
  },
  {
   "cell_type": "code",
   "execution_count": 60,
   "id": "promising-allocation",
   "metadata": {},
   "outputs": [
    {
     "data": {
      "text/html": [
       "<div>\n",
       "<style scoped>\n",
       "    .dataframe tbody tr th:only-of-type {\n",
       "        vertical-align: middle;\n",
       "    }\n",
       "\n",
       "    .dataframe tbody tr th {\n",
       "        vertical-align: top;\n",
       "    }\n",
       "\n",
       "    .dataframe thead th {\n",
       "        text-align: right;\n",
       "    }\n",
       "</style>\n",
       "<table border=\"1\" class=\"dataframe\">\n",
       "  <thead>\n",
       "    <tr style=\"text-align: right;\">\n",
       "      <th></th>\n",
       "      <th>base_year</th>\n",
       "      <th>is_public</th>\n",
       "      <th>district_number</th>\n",
       "      <th>student_grade</th>\n",
       "      <th>is_indigenous</th>\n",
       "      <th>total</th>\n",
       "      <th>successful</th>\n",
       "      <th>success_rate</th>\n",
       "    </tr>\n",
       "  </thead>\n",
       "  <tbody>\n",
       "    <tr>\n",
       "      <th>0</th>\n",
       "      <td>2015</td>\n",
       "      <td>1</td>\n",
       "      <td>0</td>\n",
       "      <td>1</td>\n",
       "      <td>1</td>\n",
       "      <td>521</td>\n",
       "      <td>500</td>\n",
       "      <td>0.959693</td>\n",
       "    </tr>\n",
       "    <tr>\n",
       "      <th>1</th>\n",
       "      <td>2015</td>\n",
       "      <td>1</td>\n",
       "      <td>0</td>\n",
       "      <td>1</td>\n",
       "      <td>0</td>\n",
       "      <td>5827</td>\n",
       "      <td>5669</td>\n",
       "      <td>0.972885</td>\n",
       "    </tr>\n",
       "    <tr>\n",
       "      <th>2</th>\n",
       "      <td>2015</td>\n",
       "      <td>1</td>\n",
       "      <td>0</td>\n",
       "      <td>2</td>\n",
       "      <td>1</td>\n",
       "      <td>546</td>\n",
       "      <td>525</td>\n",
       "      <td>0.961538</td>\n",
       "    </tr>\n",
       "    <tr>\n",
       "      <th>3</th>\n",
       "      <td>2015</td>\n",
       "      <td>1</td>\n",
       "      <td>0</td>\n",
       "      <td>2</td>\n",
       "      <td>0</td>\n",
       "      <td>5868</td>\n",
       "      <td>5727</td>\n",
       "      <td>0.975971</td>\n",
       "    </tr>\n",
       "    <tr>\n",
       "      <th>4</th>\n",
       "      <td>2015</td>\n",
       "      <td>1</td>\n",
       "      <td>0</td>\n",
       "      <td>3</td>\n",
       "      <td>1</td>\n",
       "      <td>509</td>\n",
       "      <td>492</td>\n",
       "      <td>0.966601</td>\n",
       "    </tr>\n",
       "    <tr>\n",
       "      <th>...</th>\n",
       "      <td>...</td>\n",
       "      <td>...</td>\n",
       "      <td>...</td>\n",
       "      <td>...</td>\n",
       "      <td>...</td>\n",
       "      <td>...</td>\n",
       "      <td>...</td>\n",
       "      <td>...</td>\n",
       "    </tr>\n",
       "    <tr>\n",
       "      <th>1222</th>\n",
       "      <td>2015</td>\n",
       "      <td>2</td>\n",
       "      <td>85</td>\n",
       "      <td>11</td>\n",
       "      <td>0</td>\n",
       "      <td>65</td>\n",
       "      <td>56</td>\n",
       "      <td>0.861538</td>\n",
       "    </tr>\n",
       "    <tr>\n",
       "      <th>1223</th>\n",
       "      <td>2015</td>\n",
       "      <td>2</td>\n",
       "      <td>91</td>\n",
       "      <td>11</td>\n",
       "      <td>1</td>\n",
       "      <td>108</td>\n",
       "      <td>89</td>\n",
       "      <td>0.824074</td>\n",
       "    </tr>\n",
       "    <tr>\n",
       "      <th>1224</th>\n",
       "      <td>2015</td>\n",
       "      <td>2</td>\n",
       "      <td>91</td>\n",
       "      <td>11</td>\n",
       "      <td>0</td>\n",
       "      <td>224</td>\n",
       "      <td>205</td>\n",
       "      <td>0.915179</td>\n",
       "    </tr>\n",
       "    <tr>\n",
       "      <th>1225</th>\n",
       "      <td>2015</td>\n",
       "      <td>2</td>\n",
       "      <td>93</td>\n",
       "      <td>11</td>\n",
       "      <td>1</td>\n",
       "      <td>22</td>\n",
       "      <td>21</td>\n",
       "      <td>0.954545</td>\n",
       "    </tr>\n",
       "    <tr>\n",
       "      <th>1226</th>\n",
       "      <td>2015</td>\n",
       "      <td>2</td>\n",
       "      <td>93</td>\n",
       "      <td>11</td>\n",
       "      <td>0</td>\n",
       "      <td>151</td>\n",
       "      <td>145</td>\n",
       "      <td>0.960265</td>\n",
       "    </tr>\n",
       "  </tbody>\n",
       "</table>\n",
       "<p>1227 rows × 8 columns</p>\n",
       "</div>"
      ],
      "text/plain": [
       "      base_year  is_public  district_number  student_grade  is_indigenous  \\\n",
       "0          2015          1                0              1              1   \n",
       "1          2015          1                0              1              0   \n",
       "2          2015          1                0              2              1   \n",
       "3          2015          1                0              2              0   \n",
       "4          2015          1                0              3              1   \n",
       "...         ...        ...              ...            ...            ...   \n",
       "1222       2015          2               85             11              0   \n",
       "1223       2015          2               91             11              1   \n",
       "1224       2015          2               91             11              0   \n",
       "1225       2015          2               93             11              1   \n",
       "1226       2015          2               93             11              0   \n",
       "\n",
       "      total  successful  success_rate  \n",
       "0       521         500      0.959693  \n",
       "1      5827        5669      0.972885  \n",
       "2       546         525      0.961538  \n",
       "3      5868        5727      0.975971  \n",
       "4       509         492      0.966601  \n",
       "...     ...         ...           ...  \n",
       "1222     65          56      0.861538  \n",
       "1223    108          89      0.824074  \n",
       "1224    224         205      0.915179  \n",
       "1225     22          21      0.954545  \n",
       "1226    151         145      0.960265  \n",
       "\n",
       "[1227 rows x 8 columns]"
      ]
     },
     "execution_count": 60,
     "metadata": {},
     "output_type": "execute_result"
    }
   ],
   "source": [
    "df"
   ]
  }
 ],
 "metadata": {
  "kernelspec": {
   "display_name": "Python 3",
   "language": "python",
   "name": "python3"
  },
  "language_info": {
   "codemirror_mode": {
    "name": "ipython",
    "version": 3
   },
   "file_extension": ".py",
   "mimetype": "text/x-python",
   "name": "python",
   "nbconvert_exporter": "python",
   "pygments_lexer": "ipython3",
   "version": "3.8.5"
  }
 },
 "nbformat": 4,
 "nbformat_minor": 5
}
